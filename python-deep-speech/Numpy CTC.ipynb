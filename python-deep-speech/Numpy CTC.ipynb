{
 "metadata": {
  "name": "",
  "signature": "sha256:069381cab64c9b140ade23bfcb66b7d4771713bf737b22e08705d33458d062d2"
 },
 "nbformat": 3,
 "nbformat_minor": 0,
 "worksheets": [
  {
   "cells": [
    {
     "cell_type": "code",
     "collapsed": false,
     "input": [
      "import numpy as np\n",
      "from itertools import groupby\n",
      "import bdrnn as nn\n",
      "import time"
     ],
     "language": "python",
     "metadata": {},
     "outputs": [],
     "prompt_number": 155
    },
    {
     "cell_type": "code",
     "collapsed": false,
     "input": [
      "A = np.arange(28)      # the 'alphabet'\n",
      "blank = np.shape(A)[0] # the value that corresponds to a blank\n",
      "\n",
      "print A\n",
      "print blank"
     ],
     "language": "python",
     "metadata": {},
     "outputs": [
      {
       "output_type": "stream",
       "stream": "stdout",
       "text": [
        "[ 0  1  2  3  4  5  6  7  8  9 10 11 12 13 14 15 16 17 18 19 20 21 22 23 24\n",
        " 25 26 27]\n",
        "28\n"
       ]
      }
     ],
     "prompt_number": 181
    },
    {
     "cell_type": "markdown",
     "metadata": {},
     "source": [
      "We must define a function: $$\\mathcal{F} : A'^T \\mapsto A^{\\leq T}$$ such that a string from the alphabet containing 'blank', $A'$, of length $T$ (denoted $A'^T$) is mapped to a string over the original alphabet, $A$, of length $\\leq T$ (denoted $A^{\\leq T}$).\n",
      "\n",
      "This is done by removing consecutive identical symbols and then removing the blank symbols. Intuitively, this corresponds to only caring about transition from no symbol to a symbol, or between two unique symbols."
     ]
    },
    {
     "cell_type": "code",
     "collapsed": false,
     "input": [
      "def F(pi):\n",
      "    return [a for a in [key for key,_ in groupby(pi)] if a!=blank]"
     ],
     "language": "python",
     "metadata": {},
     "outputs": [],
     "prompt_number": 157
    },
    {
     "cell_type": "markdown",
     "metadata": {},
     "source": [
      "Both the strings \"a-ab-\" and \"-aa--abb\" should map onto \"aab\""
     ]
    },
    {
     "cell_type": "code",
     "collapsed": false,
     "input": [
      "print F([0, blank, 0, 1, blank])\n",
      "print F([blank, 0, 0, blank, blank, 0, 1, 1])\n",
      "print F(np.random.randint(0, blank+1, 15))"
     ],
     "language": "python",
     "metadata": {},
     "outputs": [
      {
       "output_type": "stream",
       "stream": "stdout",
       "text": [
        "[0, 0, 1]\n",
        "[0, 0, 1]\n",
        "[26, 2, 12, 16, 0, 14, 17, 6, 2, 19, 17, 9, 26, 15, 26]\n"
       ]
      }
     ],
     "prompt_number": 158
    },
    {
     "cell_type": "code",
     "collapsed": false,
     "input": [
      "def make_l_prime(l):\n",
      "    return [blank] + sum([[i, blank] for i in l], [])"
     ],
     "language": "python",
     "metadata": {},
     "outputs": [],
     "prompt_number": 159
    },
    {
     "cell_type": "code",
     "collapsed": false,
     "input": [
      "print make_l_prime([blank, 0, 0, blank, blank, 0, 1, 1])\n",
      "print make_l_prime(F([blank, 0, 0, blank, blank, 0, 1, 1])) # Don't forget to map it first!"
     ],
     "language": "python",
     "metadata": {},
     "outputs": [
      {
       "output_type": "stream",
       "stream": "stdout",
       "text": [
        "[28, 28, 28, 0, 28, 0, 28, 28, 28, 28, 28, 0, 28, 1, 28, 1, 28]\n",
        "[28, 0, 28, 0, 28, 1, 28]\n"
       ]
      }
     ],
     "prompt_number": 204
    },
    {
     "cell_type": "code",
     "collapsed": false,
     "input": [
      "# Todo: ensure this models the relationship fully\n",
      "def recurrence_relation(size):\n",
      "    big_I = np.eye(size+2)\n",
      "    return np.eye(size) + big_I[2:,1:-1] + big_I[2:,:-2] * (np.arange(size) % 2)"
     ],
     "language": "python",
     "metadata": {},
     "outputs": [],
     "prompt_number": 212
    },
    {
     "cell_type": "code",
     "collapsed": false,
     "input": [
      "# Brute force recursive (correct)\n",
      "def forward(l, l_prime, probs, T, t, u):\n",
      "    if t==0 and u==0: return probs[0][blank]\n",
      "    elif t==0 and u==1: return probs[0][l[0]]\n",
      "    elif t==0: return 0\n",
      "    elif u<1 or u<(len(l_prime) - 2*(T - t)-1): return 0\n",
      "    \n",
      "    if l_prime[u]==blank or l_prime[u-2]==l_prime[u]:\n",
      "        return (forward(l, l_prime, probs, T, t-1, u) +\\\n",
      "            forward(l, l_prime, probs, T, t-1, u-1)) *\\\n",
      "            probs[t][l_prime[u]]\n",
      "    else:\n",
      "        return (forward(l, l_prime, probs, T, t-1, u) +\\\n",
      "            forward(l, l_prime, probs, T, t-1, u-1) +\\\n",
      "            forward(l, l_prime, probs, T, t-1, u-2)) *\\\n",
      "            probs[t][l_prime[u]]"
     ],
     "language": "python",
     "metadata": {},
     "outputs": [],
     "prompt_number": 214
    },
    {
     "cell_type": "code",
     "collapsed": false,
     "input": [
      "# DP (recursive) as described by the paper\n",
      "def forward2(t, u):\n",
      "    if r[t][u] != 0: return r[t][u]\n",
      "    \n",
      "    if t==0 and u==0:\n",
      "        #if r[t][u] != 0: return r[t][u]\n",
      "        prob = probs[0][blank]\n",
      "        modr(t, u, prob)\n",
      "        return prob\n",
      "    elif t==0 and u==1:\n",
      "        #if r[t][u] != 0: return r[t][u]\n",
      "        prob = probs[0][l[0]]\n",
      "        modr(t, u, prob)\n",
      "        return prob\n",
      "    elif t==0: return 0\n",
      "    elif u<1 or u<(len(l_p) - 2*(T-1 - t)-1): return 0\n",
      "    \n",
      "    if l_p[u]==blank or l_p[u-2]==l_p[u]:\n",
      "        #if r[t][u] != 0: return r[t][u]\n",
      "        prob = (forward2(t-1, u) +\\\n",
      "            forward2(t-1, u-1)) *\\\n",
      "            probs[t][l_p[u]]\n",
      "        modr(t, u, prob)\n",
      "        return prob\n",
      "    else:\n",
      "        #if r[t][u] != 0: return r[t][u]\n",
      "        prob = (forward2(t-1, u) +\\\n",
      "            forward2(t-1, u-1) +\\\n",
      "            forward2(t-1, u-2)) *\\\n",
      "            probs[t][l_p[u]]\n",
      "        modr(t, u, prob)\n",
      "        return prob"
     ],
     "language": "python",
     "metadata": {},
     "outputs": [],
     "prompt_number": 194
    },
    {
     "cell_type": "code",
     "collapsed": false,
     "input": [
      "def forward3(t, u):\n",
      "    pass\n",
      "    # TODO: matrix approach\n",
      "\n",
      "def forward4(t, u):\n",
      "    pass\n",
      "    # TODO: theano approach"
     ],
     "language": "python",
     "metadata": {},
     "outputs": []
    },
    {
     "cell_type": "code",
     "collapsed": false,
     "input": [],
     "language": "python",
     "metadata": {},
     "outputs": []
    },
    {
     "cell_type": "code",
     "collapsed": false,
     "input": [
      "def toy():\n",
      "    test_2d_sequence = np.asarray([\n",
      "        [0, 0], [1, 1], [2, 2], [3, 3],\n",
      "        [1, 1], [2, 2], [3, 3], [4, 4],\n",
      "        [2, 2], [3, 3], [4, 4], [3, 3],\n",
      "        [3, 3], [4, 4], [3, 3], [2, 2],\n",
      "        [4, 4], [3, 3], [2, 2], [1, 1],\n",
      "        [3, 3], [4, 4], [3, 3], [2, 2],\n",
      "        [2, 2], [3, 3], [4, 4], [3, 3],\n",
      "        [1, 1], [2, 2], [3, 3], [4, 4],\n",
      "        [0, 0], [1, 1], [2, 2], [3, 3],\n",
      "        [0, 0], [1, 1], [2, 2], [3, 3],\n",
      "        [1, 1], [2, 2], [3, 3], [4, 4],\n",
      "        [2, 2], [3, 3], [4, 4], [3, 3],\n",
      "        [3, 3], [4, 4], [3, 3], [2, 2],\n",
      "        [4, 4], [3, 3], [2, 2], [1, 1],\n",
      "        [3, 3], [4, 4], [3, 3], [2, 2],\n",
      "        [2, 2], [3, 3], [4, 4], [3, 3],\n",
      "        [1, 1], [2, 2], [3, 3], [4, 4],\n",
      "        [0, 0], [1, 1], [2, 2], [3, 3]\n",
      "    ])\n",
      "\n",
      "    win_size = 0\n",
      "    dimensionality = 2\n",
      "    rng = np.random.RandomState(123)\n",
      "\n",
      "    h1 = nn.FeedForwardLayer(rng, 2*dimensionality*win_size + dimensionality, 3)\n",
      "    h2 = nn.FeedForwardLayer(rng, 3, 3)\n",
      "    h3 = nn.FeedForwardLayer(rng, 3, 2)\n",
      "\n",
      "    recurrency_output_count = 2\n",
      "    f1 = nn.RecurrentForwardLayer(rng, 2 + recurrency_output_count, recurrency_output_count)\n",
      "    b1 = nn.RecurrentBackwardLayer(rng, 2 + recurrency_output_count, recurrency_output_count)\n",
      "    bd1 = nn.BiDirectionalLayer(f1, b1, initial_state=np.zeros(recurrency_output_count))\n",
      "\n",
      "    o = nn.FeedForwardLayer(rng, 2*recurrency_output_count, 29)\n",
      "\n",
      "    bdrnn = nn.BDRNN([h1, h2, h3, bd1, o], window_width=win_size)\n",
      "\n",
      "\n",
      "\n",
      "    return len(test_2d_sequence), [np.exp(x) for x in bdrnn.predict(test_2d_sequence)]"
     ],
     "language": "python",
     "metadata": {},
     "outputs": [],
     "prompt_number": 287
    },
    {
     "cell_type": "code",
     "collapsed": false,
     "input": [
      "T, y = toy()\n",
      "y = [elem / np.sum(elem) for elem in y]\n",
      "l = [0, 1, 0]\n",
      "#target = [int(x)97 for x in 'IT WAS THE SAME WAY WITH OUR REVOLVERS AND RIFLES'.lower()]\n",
      "l_p = make_l_prime(F(l))\n",
      "\n",
      "#print y\n",
      "#print l\n",
      "#print l_p\n",
      "print T"
     ],
     "language": "python",
     "metadata": {},
     "outputs": [
      {
       "output_type": "stream",
       "stream": "stdout",
       "text": [
        "72\n"
       ]
      }
     ],
     "prompt_number": 288
    },
    {
     "cell_type": "code",
     "collapsed": false,
     "input": [
      "duration = time.time()\n",
      "p_of_l_1 = forward(l, l_p, y, T-1, T-1, len(l_p)-1)\n",
      "p_of_l_2 = forward(l, l_p, y, T-1, T-1, len(l_p)-2)\n",
      "p_of_l = p_of_l_1 + p_of_l_2\n",
      "duration = time.time() - duration"
     ],
     "language": "python",
     "metadata": {},
     "outputs": [
      {
       "metadata": {},
       "output_type": "pyout",
       "prompt_number": 259,
       "text": [
        "'duration = time.time()\\np_of_l_1 = forward(l, l_p, y, T-1, T-1, len(l_p)-1)\\np_of_l_2 = forward(l, l_p, y, T-1, T-1, len(l_p)-2)\\np_of_l = p_of_l_1 + p_of_l_2\\nduration = time.time() - duration'"
       ]
      }
     ],
     "prompt_number": 259
    },
    {
     "cell_type": "code",
     "collapsed": false,
     "input": [
      "print p_of_l\n",
      "print '\\t', p_of_l_1\n",
      "print '\\t', p_of_l_2\n",
      "print '\\t', duration, 's'"
     ],
     "language": "python",
     "metadata": {},
     "outputs": []
    },
    {
     "cell_type": "code",
     "collapsed": false,
     "input": [],
     "language": "python",
     "metadata": {},
     "outputs": [],
     "prompt_number": 174
    },
    {
     "cell_type": "code",
     "collapsed": false,
     "input": [],
     "language": "python",
     "metadata": {},
     "outputs": [],
     "prompt_number": 175
    },
    {
     "cell_type": "code",
     "collapsed": false,
     "input": [
      "r = np.zeros((T, T)) #recurrence_relation(T)\n",
      "probs = y"
     ],
     "language": "python",
     "metadata": {},
     "outputs": [],
     "prompt_number": 289
    },
    {
     "cell_type": "code",
     "collapsed": false,
     "input": [
      "def modr(x, y, v):\n",
      "    global r\n",
      "    r[x][y] = v"
     ],
     "language": "python",
     "metadata": {},
     "outputs": [],
     "prompt_number": 290
    },
    {
     "cell_type": "code",
     "collapsed": false,
     "input": [],
     "language": "python",
     "metadata": {},
     "outputs": [],
     "prompt_number": 290
    },
    {
     "cell_type": "code",
     "collapsed": false,
     "input": [
      "for i in np.arange(15):\n",
      "    \n",
      "    #print l\n",
      "    #l.append(blank)\n",
      "    #l_p = make_l_prime(F(l))\n",
      "    r = np.zeros((T, T)) #recurrence_relation(T)\n",
      "    duration = time.time()\n",
      "    p_of_l_1 = forward2(T-1, len(l_p)-1)\n",
      "    r = np.zeros((T, T)) #recurrence_relation(T)\n",
      "    p_of_l_2 = forward2(T-1, len(l_p)-2)\n",
      "    p_of_l = p_of_l_1 + p_of_l_2\n",
      "    duration = time.time() - duration\n",
      "\n",
      "    print p_of_l\n",
      "    print '\\t', p_of_l_1\n",
      "    print '\\t', p_of_l_2\n",
      "    print '\\t', duration, 's'\n",
      "    \n",
      "    l.append(i)\n",
      "    l_p = make_l_prime(F(l))"
     ],
     "language": "python",
     "metadata": {},
     "outputs": [
      {
       "output_type": "stream",
       "stream": "stdout",
       "text": [
        "5.20976897651e-97\n",
        "\t5.20976897651e-97\n",
        "\t0\n",
        "\t0.00120997428894 s\n",
        "5.20976897651e-97\n",
        "\t5.20976897651e-97\n",
        "\t0\n",
        "\t0.000765800476074 s\n",
        "2.26701450159e-95\n",
        "\t2.26701450159e-95\n",
        "\t0\n",
        "\t0.00116205215454 s\n",
        "1.53129111879e-92\n",
        "\t1.53129111879e-92\n",
        "\t0\n",
        "\t0.00153183937073 s\n",
        "6.18451205512e-91\n",
        "\t6.18451205512e-91\n",
        "\t0\n",
        "\t0.00233888626099 s\n",
        "9.17814551465e-90\n",
        "\t9.17814551465e-90\n",
        "\t0\n",
        "\t0.00254702568054 s\n",
        "2.00216123281e-88\n",
        "\t2.00216123281e-88\n",
        "\t0\n",
        "\t0.00411295890808 s\n",
        "1.38849459617e-87\n",
        "\t1.38849459617e-87\n",
        "\t0\n",
        "\t0.0102860927582 s\n",
        "1.55963435984e-85\n",
        "\t1.55963435984e-85\n",
        "\t0\n",
        "\t0.0179350376129 s\n",
        "2.24885053281e-84"
       ]
      },
      {
       "output_type": "stream",
       "stream": "stdout",
       "text": [
        "\n",
        "\t2.24885053281e-84\n",
        "\t0\n",
        "\t0.0416929721832 s\n",
        "9.6122335351e-84"
       ]
      },
      {
       "output_type": "stream",
       "stream": "stdout",
       "text": [
        "\n",
        "\t9.6122335351e-84\n",
        "\t0\n",
        "\t0.105150222778 s\n",
        "2.54786204062e-83"
       ]
      },
      {
       "output_type": "stream",
       "stream": "stdout",
       "text": [
        "\n",
        "\t2.54786204062e-83\n",
        "\t0\n",
        "\t0.271194934845 s\n",
        "2.05865029904e-82"
       ]
      },
      {
       "output_type": "stream",
       "stream": "stdout",
       "text": [
        "\n",
        "\t2.05865029904e-82\n",
        "\t0\n",
        "\t0.723635911942 s\n",
        "1.06407465757e-81"
       ]
      },
      {
       "output_type": "stream",
       "stream": "stdout",
       "text": [
        "\n",
        "\t1.06407465757e-81\n",
        "\t0\n",
        "\t1.87990903854 s\n",
        "4.73354350704e-81"
       ]
      },
      {
       "output_type": "stream",
       "stream": "stdout",
       "text": [
        "\n",
        "\t4.73354350704e-81\n",
        "\t0\n",
        "\t4.86699914932 s\n"
       ]
      }
     ],
     "prompt_number": 291
    },
    {
     "cell_type": "code",
     "collapsed": false,
     "input": [],
     "language": "python",
     "metadata": {},
     "outputs": []
    },
    {
     "cell_type": "code",
     "collapsed": false,
     "input": [],
     "language": "python",
     "metadata": {},
     "outputs": []
    },
    {
     "cell_type": "code",
     "collapsed": false,
     "input": [],
     "language": "python",
     "metadata": {},
     "outputs": []
    },
    {
     "cell_type": "code",
     "collapsed": false,
     "input": [],
     "language": "python",
     "metadata": {},
     "outputs": [],
     "prompt_number": 153
    },
    {
     "cell_type": "code",
     "collapsed": false,
     "input": [
      "def testerooni():\n",
      "    probs = [[.25,.5,.25],[.2,.3,.5],[.4,.4,.2]]\n",
      "    l = [0]\n",
      "    l_p = make_l_prime(l)\n",
      "    blank = 2\n",
      "    T = 3\n",
      "    r = np.zeros((T, T)) #recurrence_relation(T)\n",
      "    duration = time.time()\n",
      "    p_of_l = forward2(T-1, len(l_p)-1) +\\\n",
      "        forward2(T-1, len(l_p)-2)\n",
      "    duration = time.time() - duration\n",
      "\n",
      "    print '\\t', p_of_l, duration, 's'"
     ],
     "language": "python",
     "metadata": {},
     "outputs": [],
     "prompt_number": 154
    },
    {
     "cell_type": "code",
     "collapsed": false,
     "input": [
      "rec = recurrence_relation(4)\n",
      "print np.dot(rec, [0, 0, 0, .85])"
     ],
     "language": "python",
     "metadata": {},
     "outputs": [
      {
       "output_type": "stream",
       "stream": "stdout",
       "text": [
        "[ 0.    0.85  0.85  0.85]\n"
       ]
      }
     ],
     "prompt_number": 280
    },
    {
     "cell_type": "code",
     "collapsed": false,
     "input": [],
     "language": "python",
     "metadata": {},
     "outputs": []
    }
   ],
   "metadata": {}
  }
 ]
}