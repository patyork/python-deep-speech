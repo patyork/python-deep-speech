{
 "metadata": {
  "name": "",
  "signature": "sha256:ee98b451b5b16be4ee1a16d70951d30ef1dcac43b585a86dc41e951ff5af9170"
 },
 "nbformat": 3,
 "nbformat_minor": 0,
 "worksheets": [
  {
   "cells": [
    {
     "cell_type": "code",
     "collapsed": false,
     "input": [
      "import theano\n",
      "import theano.tensor as T\n",
      "from theano_toolkit import utils as U\n",
      "from theano_toolkit import updates\n",
      "import numpy as np\n",
      "import math\n",
      "import time\n",
      "from itertools import groupby"
     ],
     "language": "python",
     "metadata": {},
     "outputs": [],
     "prompt_number": 5
    },
    {
     "cell_type": "code",
     "collapsed": false,
     "input": [
      "def recurrence_relation(size):\n",
      "    big_I = T.eye(size+2)\n",
      "    return T.eye(size) + big_I[2:,1:-1] + big_I[2:,:-2] * (T.arange(size) % 2)"
     ],
     "language": "python",
     "metadata": {},
     "outputs": [],
     "prompt_number": 21
    },
    {
     "cell_type": "code",
     "collapsed": false,
     "input": [
      "def path_probs(predict,Y):\n",
      "    P = predict[:,Y]\n",
      "    #return (predict, Y, P)\n",
      "    #return Y\n",
      "    rr = recurrence_relation(Y.shape[0])\n",
      "    def step(p_curr,p_prev):\n",
      "        return p_curr * T.dot(p_prev,rr)\n",
      "    probs,_ = theano.scan(\n",
      "            step,\n",
      "            sequences = [P],\n",
      "            outputs_info = [T.eye(Y.shape[0])[0]]\n",
      "        )\n",
      "    return probs\n"
     ],
     "language": "python",
     "metadata": {},
     "outputs": [],
     "prompt_number": 22
    },
    {
     "cell_type": "code",
     "collapsed": false,
     "input": [
      "def ctc_cost(predict,Y):\n",
      "    #return path_probs(predict,Y)\n",
      "    forward_probs  = path_probs(predict,Y)\n",
      "    #return forward_probs\n",
      "    backward_probs = path_probs(predict[::-1],Y[::-1])[::-1,::-1]\n",
      "    probs = forward_probs * backward_probs / predict[:,Y]\n",
      "    total_prob = T.sum(probs)\n",
      "    #return total_prob\n",
      "    return -T.log(total_prob)"
     ],
     "language": "python",
     "metadata": {},
     "outputs": [],
     "prompt_number": 23
    },
    {
     "cell_type": "code",
     "collapsed": false,
     "input": [
      "def get_f(r_inputs, W_fr_fr, b_fr, initial_state):\n",
      "    def step(input_curr,hidden_prev):\n",
      "        hidden = T.tanh(\n",
      "                T.dot(hidden_prev,W_fr_fr) +\\\n",
      "                input_curr +\\\n",
      "                b_fr\n",
      "            )\n",
      "        return hidden\n",
      "    hidden,_ = theano.scan(\n",
      "        step,\n",
      "        sequences=[r_inputs],\n",
      "        outputs_info=[initial_state]\n",
      "    )\n",
      "    return hidden\n",
      "\n",
      "def get_b(r_inputs, W_br_br, b_br, initial_state):\n",
      "    def step(input_curr, hidden_prev):\n",
      "        hidden = T.tanh(\n",
      "                T.dot(hidden_prev,W_br_br) +\\\n",
      "                input_curr +\\\n",
      "                b_br\n",
      "            )\n",
      "        return hidden\n",
      "    hidden,_ = theano.scan(\n",
      "        step,\n",
      "        sequences=[r_inputs],\n",
      "        outputs_info=[initial_state],\n",
      "        go_backwards=True\n",
      "    )\n",
      "    return hidden\n",
      "\n",
      "\n",
      "\n",
      "def forward_pass(input_size, ff1_size, ff2_size, ff3_size, recurrency_size, output_size):\n",
      "    X = T.matrix('X')\n",
      "    \n",
      "    # Feed-forward hidden layers\n",
      "    W_input_ff1 = U.create_shared(U.initial_weights(input_size, ff1_size))\n",
      "    W_ff1_ff2 = U.create_shared(U.initial_weights(ff1_size, ff2_size))\n",
      "    W_ff2_ff3 = U.create_shared(U.initial_weights(ff2_size, ff3_size))\n",
      "    b_ff1 = U.create_shared(U.initial_weights(ff1_size))\n",
      "    b_ff2 = U.create_shared(U.initial_weights(ff2_size))\n",
      "    b_ff3 = U.create_shared(U.initial_weights(ff3_size))\n",
      "    \n",
      "    # Bidirectional layer\n",
      "    initial_state = U.create_shared(U.initial_weights(recurrency_size))\n",
      "    W_ff3_fr = U.create_shared(U.initial_weights(ff3_size, recurrency_size))\n",
      "    W_fr_fr = U.create_shared(U.initial_weights(recurrency_size, recurrency_size))\n",
      "    W_ff3_br = U.create_shared(U.initial_weights(ff3_size, recurrency_size))\n",
      "    W_br_br = U.create_shared(U.initial_weights(recurrency_size, recurrency_size))\n",
      "    b_fr = U.create_shared(U.initial_weights(recurrency_size))\n",
      "    b_br = U.create_shared(U.initial_weights(recurrency_size))\n",
      "    \n",
      "    # Output layer\n",
      "    W_bd_o = U.create_shared(U.initial_weights(2*recurrency_size, output_size))\n",
      "    b_o =U.create_shared(U.initial_weights(output_size))\n",
      "    \n",
      "    \n",
      "    #W_input_hidden  = U.create_shared(U.initial_weights(input_size,hidden_size))\n",
      "    #W_hidden_hidden = U.create_shared(U.initial_weights(hidden_size,hidden_size))\n",
      "    #W_hidden_output = U.create_shared(U.initial_weights(hidden_size,output_size))\n",
      "    #b_hidden = U.create_shared(U.initial_weights(hidden_size))\n",
      "    #i_hidden = U.create_shared(U.initial_weights(hidden_size))\n",
      "    #b_output = U.create_shared(U.initial_weights(output_size))\n",
      "    \n",
      "    params = [W_input_ff1, W_ff1_ff2, W_ff2_ff3, b_ff1, b_ff2, b_ff3, W_ff3_fr, W_fr_fr,\n",
      "              W_ff3_br, W_br_br, b_fr, b_br, W_bd_o, b_o]\n",
      "    \n",
      "    # Forward pass\n",
      "    output_ff1 = T.tanh(T.dot(X, W_input_ff1) + b_ff1)\n",
      "    output_ff2 = T.tanh(T.dot(output_ff1, W_ff1_ff2) + b_ff2)\n",
      "    output_ff3 = T.tanh(T.dot(output_ff2, W_ff2_ff3) + b_ff3)\n",
      "    \n",
      "    foward = get_f(T.dot(output_ff3, W_ff3_fr), W_fr_fr, b_fr, initial_state)\n",
      "    backward = get_b(T.dot(output_ff3, W_ff3_br), W_br_br, b_br, initial_state)\n",
      "    \n",
      "    predict = T.nnet.softmax(T.dot(T.concatenate((foward, backward), axis=1), W_bd_o) + b_o)\n",
      "    return X,predict,params"
     ],
     "language": "python",
     "metadata": {},
     "outputs": [],
     "prompt_number": 30
    },
    {
     "cell_type": "code",
     "collapsed": false,
     "input": [
      "Y = T.ivector('Y')\n",
      "X,predict,params = forward_pass(80,500,250,100,50,30)\n",
      "#out = predict\n",
      "cost = ctc_cost(predict,Y)\n",
      "\n",
      "\n",
      "# Differentiable\n",
      "grad = T.grad(cost,wrt=params)\n",
      "\n",
      "f = theano.function(\n",
      "        inputs = [X,Y],\n",
      "        outputs = cost,\n",
      "        on_unused_input='warn'\n",
      "    )"
     ],
     "language": "python",
     "metadata": {},
     "outputs": [],
     "prompt_number": 33
    },
    {
     "cell_type": "code",
     "collapsed": false,
     "input": [
      "f(np.eye(81)[:,:80],np.arange(2,dtype=np.int32))"
     ],
     "language": "python",
     "metadata": {},
     "outputs": [
      {
       "metadata": {},
       "output_type": "pyout",
       "prompt_number": 34,
       "text": [
        "array(266.694729940209)"
       ]
      }
     ],
     "prompt_number": 34
    },
    {
     "cell_type": "code",
     "collapsed": false,
     "input": [
      "print theano.pp(f.maker.fgraph.outputs[0])"
     ],
     "language": "python",
     "metadata": {},
     "outputs": [
      {
       "output_type": "stream",
       "stream": "stdout",
       "text": [
        "Elemwise{Composite{[neg(log(i0))]}}[(0, 0)](Sum(Elemwise{Composite{[true_div(mul(i0, i1), i2)]}}[(0, 0)](Constant{1}[int64:int64:int8], Constant{-1}[int64:int64:int64, ::-1], AdvancedSubtensor1(SoftmaxWithBias(Dot22(join(TensorConstant{1}, Constant{1}[int64:int64:int8], Constant{1}[int64:int64:int8]), <TensorType(float64, matrix)>), <TensorType(float64, vector)>).T, Y).T)))\n"
       ]
      }
     ],
     "prompt_number": 38
    },
    {
     "cell_type": "code",
     "collapsed": false,
     "input": [],
     "language": "python",
     "metadata": {},
     "outputs": []
    }
   ],
   "metadata": {}
  }
 ]
}