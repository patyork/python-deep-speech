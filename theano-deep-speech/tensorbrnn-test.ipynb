{
 "metadata": {
  "name": "",
  "signature": "sha256:fafcdcb097c4bf5e66539b7e7ead0c6a0d5508a849bba21d191890f8ee7ad677"
 },
 "nbformat": 3,
 "nbformat_minor": 0,
 "worksheets": [
  {
   "cells": [
    {
     "cell_type": "code",
     "collapsed": false,
     "input": [
      "__author__ = 'pat'\n",
      "import tensorbrnn as brnn\n",
      "import numpy as np\n",
      "import theano\n",
      "from itertools import groupby\n",
      "import time\n",
      "\n",
      "\n",
      "def str_to_seq(str):\n",
      "    seq = []\n",
      "    for c in str:\n",
      "        val = ord(c)\n",
      "        if val==32:\n",
      "            val = 26\n",
      "        elif val==39:\n",
      "            val=27\n",
      "        elif val==45:\n",
      "            val=28\n",
      "        else:\n",
      "            val-=97\n",
      "        seq.append(val)\n",
      "    return seq\n",
      "\n",
      "\n",
      "def seq_to_str(seq):\n",
      "    str = ''\n",
      "    for elem in seq:\n",
      "        if elem==26:\n",
      "            str += ' '\n",
      "        elif elem==27:\n",
      "            str += '\\''\n",
      "        elif elem==28:\n",
      "            str += '-'\n",
      "        elif elem==29:\n",
      "            pass\n",
      "        else:\n",
      "            str += chr(elem+97)\n",
      "    return str\n",
      "\n",
      "\n",
      "# Remove consecutive symbols and blanks\n",
      "def F(pi, blank):\n",
      "    return [a for a in [key for key, _ in groupby(pi)] if a != blank]\n",
      "\n",
      "\n",
      "# Insert blanks between unique symbols, and at the beginning and end\n",
      "def make_l_prime(l, blank):\n",
      "    result = [blank] * (len(l) * 2 + 1)\n",
      "    result[1::2] = l\n",
      "    return result\n",
      "\n",
      "\n",
      "alphabet = np.arange(29) #[a,....,z, space, ', -]\n",
      "\n",
      "def generate_shared(samples, blank):\n",
      "    maximum_x = np.max([s[1].shape[0] for s in samples])\n",
      "    maximum_y = np.max([len(s[0]) for s in samples])*2+1\n",
      "\n",
      "    win_x = []\n",
      "    y_data = []\n",
      "    for s in samples:\n",
      "        # Window and send\n",
      "        window_size = 1 # 1 frame of context on each side\n",
      "        windowed = []\n",
      "        for i in np.arange(window_size, len(s[1])-window_size):\n",
      "            windowed.append(np.concatenate((s[1][i-1], s[1][i], s[1][i+1])))\n",
      "\n",
      "        for j in np.arange(len(s[1]), maximum_x):\n",
      "            windowed.append(np.zeros((240)))\n",
      "\n",
      "        windowed = np.asarray(windowed, dtype=theano.config.floatX)\n",
      "        win_x.append(windowed)\n",
      "\n",
      "\n",
      "        l_p = make_l_prime(str_to_seq(F(s[0], len(alphabet))), len(alphabet))\n",
      "        l_p += [blank for x in np.arange(maximum_y-len(l_p))]\n",
      "\n",
      "        y_data.append(np.asarray(l_p, dtype='int32'))\n",
      "\n",
      "    x_data = np.rollaxis(np.dstack(win_x), -1)\n",
      "    y_data = np.asarray(y_data, dtype='int32')\n",
      "\n",
      "    print x_data.shape, x_data.dtype, x_data[0].shape\n",
      "    print y_data.shape, y_data.dtype, y_data[0].shape\n",
      "\n",
      "    shared_x_data = theano.shared(x_data, borrow=True)\n",
      "    shared_y_data = theano.shared(np.asarray(y_data), borrow=True)\n",
      "\n",
      "    return shared_x_data, theano.tensor.cast(shared_y_data, 'int32')\n",
      "\n",
      "\n",
      "import os\n",
      "import cPickle as pickle\n",
      "samples = []\n",
      "directory = 'pickled'\n",
      "files = [os.path.join(directory, x) for x in os.listdir(directory)]\n",
      "files = files[:100]\n",
      "\n",
      "\n",
      "for f in files:\n",
      "    submission = pickle.load(open(f, 'rb'))\n",
      "    print f\n",
      "\n",
      "    for sample in submission:\n",
      "        label_len = len(sample[0])\n",
      "        label_prime_len = len(make_l_prime(str_to_seq(F(sample[0], len(alphabet))), len(alphabet)))\n",
      "        num_buckets = np.shape(sample[1])[0]\n",
      "        if label_len < 37 and label_prime_len <= num_buckets:# and (float(num_buckets) / float(label_prime_len) < 3.0):\n",
      "            samples.append(sample)\n",
      "\n",
      "samples = samples[:200]\n",
      "\n",
      "shared_x, shared_y = generate_shared(samples, len(alphabet))\n",
      "\n"
     ],
     "language": "python",
     "metadata": {},
     "outputs": [
      {
       "output_type": "stream",
       "stream": "stdout",
       "text": [
        "pickled/benoliver999-20100207-jxe.pkl\n",
        "pickled/AslakKnutsen-20140317-yil.pkl\n",
        "pickled/azmisov-20140428-kfo.pkl"
       ]
      },
      {
       "output_type": "stream",
       "stream": "stdout",
       "text": [
        "\n",
        "pickled/Bareford-20101110-qkl.pkl"
       ]
      },
      {
       "output_type": "stream",
       "stream": "stdout",
       "text": [
        "\n",
        "pickled/AlexanderHenningDrachmann-20140108-koe.pkl"
       ]
      },
      {
       "output_type": "stream",
       "stream": "stdout",
       "text": [
        "\n",
        "pickled/bluSch-20100525-bqg.pkl\n",
        "pickled/arun-20100928-usw.pkl"
       ]
      },
      {
       "output_type": "stream",
       "stream": "stdout",
       "text": [
        "\n",
        "pickled/BlueAgent-20120819-dok.pkl\n",
        "pickled/belmontguy-20110426-geu.pkl"
       ]
      },
      {
       "output_type": "stream",
       "stream": "stdout",
       "text": [
        "\n",
        "pickled/Bahoke-20130721-brs.pkl\n",
        "pickled/Akhansson-20120423-yas.pkl"
       ]
      },
      {
       "output_type": "stream",
       "stream": "stdout",
       "text": [
        "\n",
        "pickled/camdixon-20130819-ndo.pkl"
       ]
      },
      {
       "output_type": "stream",
       "stream": "stdout",
       "text": [
        "\n",
        "pickled/artk-20101225-kvd.pkl"
       ]
      },
      {
       "output_type": "stream",
       "stream": "stdout",
       "text": [
        "\n",
        "pickled/1snoke-20120412-hge.pkl"
       ]
      },
      {
       "output_type": "stream",
       "stream": "stdout",
       "text": [
        "\n",
        "pickled/bebe-20100419-nrh.pkl\n",
        "pickled/camdixon-20130819-dhc.pkl"
       ]
      },
      {
       "output_type": "stream",
       "stream": "stdout",
       "text": [
        "\n",
        "pickled/axllaruse-20140112-ced.pkl"
       ]
      },
      {
       "output_type": "stream",
       "stream": "stdout",
       "text": [
        "\n",
        "pickled/becz03-20121205-yzd.pkl\n",
        "pickled/amichaischreiber-20100507-eaj.pkl"
       ]
      },
      {
       "output_type": "stream",
       "stream": "stdout",
       "text": [
        "\n",
        "pickled/akiplaner-20100312-jbh.pkl"
       ]
      },
      {
       "output_type": "stream",
       "stream": "stdout",
       "text": [
        "\n",
        "pickled/ablackball-20121113-lxs.pkl"
       ]
      },
      {
       "output_type": "stream",
       "stream": "stdout",
       "text": [
        "\n",
        "pickled/beez1717-20111017-yqm.pkl\n",
        "pickled/akiplaner-20100215-cot.pkl"
       ]
      },
      {
       "output_type": "stream",
       "stream": "stdout",
       "text": [
        "\n",
        "pickled/akhansson-20120423-okb.pkl"
       ]
      },
      {
       "output_type": "stream",
       "stream": "stdout",
       "text": [
        "\n",
        "pickled/BlindPilot-20100610-hnf.pkl"
       ]
      },
      {
       "output_type": "stream",
       "stream": "stdout",
       "text": [
        "\n",
        "pickled/ae-20100821-xop.pkl"
       ]
      },
      {
       "output_type": "stream",
       "stream": "stdout",
       "text": [
        "\n",
        "pickled/Akram-20101102-qax.pkl\n",
        "pickled/akiplaner-20100324-nhn.pkl"
       ]
      },
      {
       "output_type": "stream",
       "stream": "stdout",
       "text": [
        "\n",
        "pickled/AndreyBarrientosCostaRica-20130720-pxz.pkl\n",
        "pickled/azmisov-20140428-pdb.pkl"
       ]
      },
      {
       "output_type": "stream",
       "stream": "stdout",
       "text": [
        "\n",
        "pickled/Anniepoo-20140308-cqj.pkl"
       ]
      },
      {
       "output_type": "stream",
       "stream": "stdout",
       "text": [
        "\n",
        "pickled/bread555-20100821-pyw.pkl\n",
        "pickled/bendauphinee-20100423-rlg.pkl"
       ]
      },
      {
       "output_type": "stream",
       "stream": "stdout",
       "text": [
        "\n",
        "pickled/bendauphinee-20100503-zmm.pkl\n",
        "pickled/azmisov-20140428-ovn.pkl"
       ]
      },
      {
       "output_type": "stream",
       "stream": "stdout",
       "text": [
        "\n",
        "pickled/ablackball-20121113-vvk.pkl\n",
        "pickled/bendauphinee-20100423-vvc.pkl"
       ]
      },
      {
       "output_type": "stream",
       "stream": "stdout",
       "text": [
        "\n",
        "pickled/azmisov-20140428-tth.pkl\n",
        "pickled/AslakKnutsen-20140314-btr.pkl"
       ]
      },
      {
       "output_type": "stream",
       "stream": "stdout",
       "text": [
        "\n",
        "pickled/akhansson-20120423-nxp.pkl"
       ]
      },
      {
       "output_type": "stream",
       "stream": "stdout",
       "text": [
        "\n",
        "pickled/asladic-20100311-tjx.pkl\n",
        "pickled/beady-20100219-xpq.pkl"
       ]
      },
      {
       "output_type": "stream",
       "stream": "stdout",
       "text": [
        "\n",
        "pickled/anoldman-20110217-dbg.pkl"
       ]
      },
      {
       "output_type": "stream",
       "stream": "stdout",
       "text": [
        "\n",
        "pickled/andpyk-20140324-tix.pkl"
       ]
      },
      {
       "output_type": "stream",
       "stream": "stdout",
       "text": [
        "\n",
        "pickled/Buddyboy-20110710-uco.pkl\n",
        "pickled/Airwings-20101216-zul.pkl"
       ]
      },
      {
       "output_type": "stream",
       "stream": "stdout",
       "text": [
        "\n",
        "pickled/aldobranti-20130208-krf.pkl\n",
        "pickled/BlindPilot-20100610-kko.pkl"
       ]
      },
      {
       "output_type": "stream",
       "stream": "stdout",
       "text": [
        "\n",
        "pickled/akiplaner-20110929-lbm.pkl"
       ]
      },
      {
       "output_type": "stream",
       "stream": "stdout",
       "text": [
        "\n",
        "pickled/Caatbells-20111019-dqd.pkl\n",
        "pickled/akiplaner-20100215-wux.pkl"
       ]
      },
      {
       "output_type": "stream",
       "stream": "stdout",
       "text": [
        "\n",
        "pickled/asladic-20120203-eie.pkl\n",
        "pickled/atterer-02052007-vf5.pkl"
       ]
      },
      {
       "output_type": "stream",
       "stream": "stdout",
       "text": [
        "\n",
        "pickled/azmisov-20140428-cyp.pkl"
       ]
      },
      {
       "output_type": "stream",
       "stream": "stdout",
       "text": [
        "\n",
        "pickled/bebe-20100419-wtr.pkl\n",
        "pickled/anoldman-20110219-irb.pkl"
       ]
      },
      {
       "output_type": "stream",
       "stream": "stdout",
       "text": [
        "\n",
        "pickled/azmisov-20140428-mjz.pkl\n",
        "pickled/buriedhope-20110121-gpm.pkl"
       ]
      },
      {
       "output_type": "stream",
       "stream": "stdout",
       "text": [
        "\n",
        "pickled/asladic-20120203-jqc.pkl\n",
        "pickled/AlexanderHenningDrachmann-20140108-mme.pkl"
       ]
      },
      {
       "output_type": "stream",
       "stream": "stdout",
       "text": [
        "\n",
        "pickled/alienation-20120207-min.pkl\n",
        "pickled/akiplaner-20100207-xzo.pkl"
       ]
      },
      {
       "output_type": "stream",
       "stream": "stdout",
       "text": [
        "\n",
        "pickled/AmolS-20140213-pvg.pkl"
       ]
      },
      {
       "output_type": "stream",
       "stream": "stdout",
       "text": [
        "\n",
        "pickled/akhansson-20120423-zbl.pkl"
       ]
      },
      {
       "output_type": "stream",
       "stream": "stdout",
       "text": [
        "\n",
        "pickled/akiplaner-20100215-dpf.pkl"
       ]
      },
      {
       "output_type": "stream",
       "stream": "stdout",
       "text": [
        "\n",
        "pickled/azmisov-20140428-xml.pkl\n",
        "pickled/brad-20100823-hie.pkl"
       ]
      },
      {
       "output_type": "stream",
       "stream": "stdout",
       "text": [
        "\n",
        "pickled/Bahoke-20130721-unp.pkl\n",
        "pickled/BhushanNKIITBombay-20140219-bbj.pkl"
       ]
      },
      {
       "output_type": "stream",
       "stream": "stdout",
       "text": [
        "\n",
        "pickled/bendra-20141108-xnz.pkl"
       ]
      },
      {
       "output_type": "stream",
       "stream": "stdout",
       "text": [
        "\n",
        "pickled/akiplaner-20100207-mob.pkl"
       ]
      },
      {
       "output_type": "stream",
       "stream": "stdout",
       "text": [
        "\n",
        "pickled/AslakKnutsen-20140314-ogu.pkl\n",
        "pickled/akiplaner-20100315-oat.pkl"
       ]
      },
      {
       "output_type": "stream",
       "stream": "stdout",
       "text": [
        "\n",
        "pickled/bjb-20120409-cao.pkl\n",
        "pickled/akhansson-20120423-upv.pkl"
       ]
      },
      {
       "output_type": "stream",
       "stream": "stdout",
       "text": [
        "\n",
        "pickled/Aaron-20130527-giy.pkl\n",
        "pickled/Airwings-20101216-vqx.pkl"
       ]
      },
      {
       "output_type": "stream",
       "stream": "stdout",
       "text": [
        "\n",
        "pickled/alopez-20101011-jsg.pkl\n",
        "pickled/Berrym-20101102-aiv.pkl"
       ]
      },
      {
       "output_type": "stream",
       "stream": "stdout",
       "text": [
        "\n",
        "pickled/bread555-20100821-vqd.pkl\n",
        "pickled/akiplaner-20100411-bjw.pkl"
       ]
      },
      {
       "output_type": "stream",
       "stream": "stdout",
       "text": [
        "\n",
        "pickled/azmisov-20140428-tqh.pkl"
       ]
      },
      {
       "output_type": "stream",
       "stream": "stdout",
       "text": [
        "\n",
        "pickled/Bahoke-20130721-uop.pkl\n",
        "pickled/anoldman-20110217-fbq.pkl"
       ]
      },
      {
       "output_type": "stream",
       "stream": "stdout",
       "text": [
        "\n",
        "pickled/akiplaner-20100130-qpr.pkl"
       ]
      },
      {
       "output_type": "stream",
       "stream": "stdout",
       "text": [
        "\n",
        "pickled/allison-20120707-xik.pkl\n",
        "pickled/AlexanderHenningDrachmann-20140108-vul.pkl"
       ]
      },
      {
       "output_type": "stream",
       "stream": "stdout",
       "text": [
        "\n",
        "pickled/akiplaner-20110929-qug.pkl"
       ]
      },
      {
       "output_type": "stream",
       "stream": "stdout",
       "text": [
        "\n",
        "pickled/AslakKnutsen-20140314-hwr.pkl\n",
        "pickled/camdixon-20130819-cua.pkl"
       ]
      },
      {
       "output_type": "stream",
       "stream": "stdout",
       "text": [
        "\n",
        "pickled/akiplaner-20100202-qyy.pkl"
       ]
      },
      {
       "output_type": "stream",
       "stream": "stdout",
       "text": [
        "\n",
        "pickled/ajforesto4Christ-20120313-wgj.pkl"
       ]
      },
      {
       "output_type": "stream",
       "stream": "stdout",
       "text": [
        "\n",
        "pickled/akhansson-20120423-ubx.pkl"
       ]
      },
      {
       "output_type": "stream",
       "stream": "stdout",
       "text": [
        "\n",
        "pickled/akiplaner-20110928-oiw.pkl"
       ]
      },
      {
       "output_type": "stream",
       "stream": "stdout",
       "text": [
        "\n",
        "pickled/camdixon-20130819-oqd.pkl\n",
        "pickled/ariyan-20120801-gra.pkl"
       ]
      },
      {
       "output_type": "stream",
       "stream": "stdout",
       "text": [
        "\n",
        "pickled/Anniepoo-20140308-fcp.pkl\n",
        "pickled/Anniepoo-20140308-bft.pkl"
       ]
      },
      {
       "output_type": "stream",
       "stream": "stdout",
       "text": [
        "\n",
        "pickled/akhansson-20120423-ecg.pkl"
       ]
      },
      {
       "output_type": "stream",
       "stream": "stdout",
       "text": [
        "\n",
        "pickled/BFG-20120316-bdl.pkl"
       ]
      },
      {
       "output_type": "stream",
       "stream": "stdout",
       "text": [
        "\n",
        "(200, 281, 240)"
       ]
      },
      {
       "output_type": "stream",
       "stream": "stdout",
       "text": [
        " float32 (281, 240)\n",
        "(200, 73) int32 (73,)\n"
       ]
      }
     ],
     "prompt_number": 1
    },
    {
     "cell_type": "code",
     "collapsed": false,
     "input": [
      "duration=time.time()\n",
      "nn = brnn.BRNN(240, 30, shared_x, shared_y)\n",
      "print '%fs' % (time.time()-duration)"
     ],
     "language": "python",
     "metadata": {},
     "outputs": [
      {
       "output_type": "stream",
       "stream": "stdout",
       "text": [
        "16.274217s\n"
       ]
      },
      {
       "output_type": "stream",
       "stream": "stderr",
       "text": [
        "/usr/local/lib/python2.7/dist-packages/theano/scan_module/scan_perform_ext.py:133: RuntimeWarning: numpy.ndarray size changed, may indicate binary incompatibility\n",
        "  from scan_perform.scan_perform import *\n"
       ]
      }
     ]
    },
    {
     "cell_type": "code",
     "collapsed": false,
     "input": [
      "duration = time.time()\n",
      "output = nn.debugTest(0)\n",
      "print '%fs' % (time.time()-duration)"
     ],
     "language": "python",
     "metadata": {},
     "outputs": []
    },
    {
     "cell_type": "code",
     "collapsed": false,
     "input": [
      "print output[0].shape\n",
      "print output[1].shape"
     ],
     "language": "python",
     "metadata": {},
     "outputs": []
    },
    {
     "cell_type": "code",
     "collapsed": false,
     "input": [
      "print np.sum(output[0] - output[1])"
     ],
     "language": "python",
     "metadata": {},
     "outputs": [
      {
       "output_type": "stream",
       "stream": "stdout",
       "text": [
        "9.31436e+06\n"
       ]
      }
     ],
     "prompt_number": 5
    },
    {
     "cell_type": "code",
     "collapsed": false,
     "input": [
      "print np.mean(output[0] - output[1])\n",
      "print np.sum(output[0] - output[1])"
     ],
     "language": "python",
     "metadata": {},
     "outputs": [
      {
       "output_type": "stream",
       "stream": "stdout",
       "text": [
        "174.426\n",
        "9.31436e+06\n"
       ]
      }
     ],
     "prompt_number": 6
    },
    {
     "cell_type": "code",
     "collapsed": false,
     "input": [
      "print np.sum(output[0][0, 0, :])"
     ],
     "language": "python",
     "metadata": {},
     "outputs": [
      {
       "ename": "IndexError",
       "evalue": "too many indices for array",
       "output_type": "pyerr",
       "traceback": [
        "\u001b[1;31m---------------------------------------------------------------------------\u001b[0m\n\u001b[1;31mIndexError\u001b[0m                                Traceback (most recent call last)",
        "\u001b[1;32m<ipython-input-7-6bb18f700859>\u001b[0m in \u001b[0;36m<module>\u001b[1;34m()\u001b[0m\n\u001b[1;32m----> 1\u001b[1;33m \u001b[1;32mprint\u001b[0m \u001b[0mnp\u001b[0m\u001b[1;33m.\u001b[0m\u001b[0msum\u001b[0m\u001b[1;33m(\u001b[0m\u001b[0moutput\u001b[0m\u001b[1;33m[\u001b[0m\u001b[1;36m0\u001b[0m\u001b[1;33m]\u001b[0m\u001b[1;33m[\u001b[0m\u001b[1;36m0\u001b[0m\u001b[1;33m,\u001b[0m \u001b[1;36m0\u001b[0m\u001b[1;33m,\u001b[0m \u001b[1;33m:\u001b[0m\u001b[1;33m]\u001b[0m\u001b[1;33m)\u001b[0m\u001b[1;33m\u001b[0m\u001b[0m\n\u001b[0m",
        "\u001b[1;31mIndexError\u001b[0m: too many indices for array"
       ]
      }
     ],
     "prompt_number": 7
    },
    {
     "cell_type": "code",
     "collapsed": false,
     "input": [
      "print output[0]"
     ],
     "language": "python",
     "metadata": {},
     "outputs": [
      {
       "output_type": "stream",
       "stream": "stdout",
       "text": [
        "174.459525797\n"
       ]
      }
     ],
     "prompt_number": 8
    },
    {
     "cell_type": "code",
     "collapsed": false,
     "input": [],
     "language": "python",
     "metadata": {},
     "outputs": []
    }
   ],
   "metadata": {}
  }
 ]
}